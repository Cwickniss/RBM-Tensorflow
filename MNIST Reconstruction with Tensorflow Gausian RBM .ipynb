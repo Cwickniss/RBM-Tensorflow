{
 "cells": [
  {
   "cell_type": "code",
   "execution_count": 3,
   "metadata": {
    "collapsed": false
   },
   "outputs": [
    {
     "name": "stdout",
     "output_type": "stream",
     "text": [
      "Extracting MNIST_data/train-images-idx3-ubyte.gz\n",
      "Extracting MNIST_data/train-labels-idx1-ubyte.gz\n",
      "Extracting MNIST_data/t10k-images-idx3-ubyte.gz\n",
      "Extracting MNIST_data/t10k-labels-idx1-ubyte.gz\n"
     ]
    }
   ],
   "source": [
    "import tensorflow as tf\n",
    "import os \n",
    "import numpy as np\n",
    "import numpy.random as rng\n",
    "from tensorflow.examples.tutorials.mnist import input_data\n",
    "from rbm.examples import bas_data \n",
    "from rbm.helper import batch \n",
    "from rbm.model import rbm \n",
    "import matplotlib.pyplot as plt\n",
    "import time \n",
    "\n",
    "mnist = input_data.read_data_sets('MNIST_data', one_hot = True)\n",
    "mnist_train = mnist.train"
   ]
  },
  {
   "cell_type": "code",
   "execution_count": 4,
   "metadata": {
    "collapsed": true
   },
   "outputs": [],
   "source": [
    "tf.reset_default_graph()\n",
    "# Create session.\n",
    "sess = tf.InteractiveSession()\n",
    "\n",
    "# Initialize RBM Model for MNIST reconstruction\n",
    "rbm_model= rbm.RBM(n_visible = 784, n_hidden = 64, lr = tf.constant(0.003,tf.float32), epochs = 10000)\n",
    "\n",
    "# Placeholder for the visible layer of the RBM computation graph.\n",
    "v = tf.placeholder(tf.float32, shape=[None,rbm_model.n_visible], name=\"visible_layer\")\n",
    "size = tf.cast(tf.shape(v)[0], tf.float32)\n",
    "\n",
    "# Initialize weights and biases for the RBM\n",
    "with tf.name_scope('Weights'):\n",
    "    W = tf.Variable(tf.random_normal([rbm_model.n_visible, rbm_model.n_hidden], mean=0., stddev=4 * np.sqrt(6. / (rbm_model.n_visible + rbm_model.n_hidden))), name=\"weights\")\n",
    "    tf.summary.histogram('weights',W)\n",
    "    weight_summary = tf.summary.image('weight_image',tf.reshape(tensor=W,shape=[-1,784,64,1]))    \n",
    "    \n",
    "vb = tf.Variable(tf.zeros([1,rbm_model.n_visible]),tf.float32, name=\"visible_bias\")\n",
    "hb = tf.Variable(tf.zeros([1,rbm_model.n_hidden]),tf.float32, name=\"hidden_bias\")\n",
    "\n",
    "\n",
    "# Similarity between reconstructed/sampled visible layer and input during training. \n",
    "# Summary for Tensorboard visualization \n",
    "with tf.name_scope(\"Reconstruction_error\"): \n",
    "    reconstruction_error = tf.Variable(0.0,name=\"Reconstruction_error\")\n",
    "    tf.summary.scalar('Reconstruction_error',reconstruction_error)\n",
    "    \n",
    "#TODO: Add free energy summary"
   ]
  },
  {
   "cell_type": "markdown",
   "metadata": {},
   "source": [
    "# Contrastive divergence after 1 sampling step. \n",
    "Positive divergence: $\\mathbf{v_0^T \\times p(h_0|v_0)}$  \n",
    "Sample hidden states from: $\\mathbf{h_0 \\sim p(h_0|v_0)}$.  \n",
    "Reconstruct visible units: $\\mathbf{v_s \\sim p(v_{s})=p(v_1|h_0)}$  \n",
    "Negative divergence: $\\mathbf{p(v_{s})^T \\times p(h_1|v_s)}$\n"
   ]
  },
  {
   "cell_type": "code",
   "execution_count": 5,
   "metadata": {
    "collapsed": true
   },
   "outputs": [],
   "source": [
    "# K-step Contrastive Divergence using Gibbs sampling\n",
    "# Positive divergence\n",
    "with tf.name_scope('Hidden_probabilities'):\n",
    "    pos_hid_prob = rbm.get_gaussian_probabilities('hidden',W,v,hb)\n",
    "with tf.name_scope('Positive_Divergence'):\n",
    "    pos_divergence = tf.matmul(tf.transpose(v),pos_hid_prob)\n",
    "\n",
    "pos_hid_states = rbm.sample(pos_hid_prob)\n",
    "neg_vis_prob = rbm.get_gaussian_probabilities('visible', W, pos_hid_states, vb)\n",
    "\n",
    "# Negative divergence\n",
    "with tf.name_scope('Negative_hidden_probabilities'):\n",
    "    neg_hid_prob = rbm.get_gaussian_probabilities('hidden', W, neg_vis_prob, hb)\n",
    "with tf.name_scope('Negative_Divergence'):\n",
    "    neg_divergence = tf.matmul(tf.transpose(neg_vis_prob),neg_hid_prob)\n",
    "    \n",
    "    \n",
    "# Accuracy on reconstructing visible layer and free energy\n",
    "a = tf.reduce_mean(tf.squared_difference(v,neg_vis_prob))\n",
    "rec_error = [reconstruction_error.assign(a)]\n",
    "#energy  =  rbm.free_energy(v = v, weights=W,hbias=hb,vbias=vb) \n",
    "#accuracy_update = [accuracy.assign_add(reconstruction_accuracy)]"
   ]
  },
  {
   "cell_type": "markdown",
   "metadata": {},
   "source": [
    "# Update rules for weights and biases.  \n",
    "$w_{new} = w_{old} + \\epsilon *$ (positive divergence - negative divergence)  \n",
    "$vb_{new} = vb_{old} + \\epsilon * (v_0 - p(v_s))$  \n",
    "$vb_{new} = vb_{old} + \\epsilon * (p(h_0) - p(h_1))$"
   ]
  },
  {
   "cell_type": "code",
   "execution_count": 6,
   "metadata": {
    "collapsed": true
   },
   "outputs": [],
   "source": [
    "# Update rules for weights and biases\n",
    "# Summaries of gradient for Tensorboard visualization\n",
    "with tf.name_scope('Weight_gradient'):\n",
    "    delta_w = tf.multiply(rbm_model.lr/size, tf.subtract(pos_divergence,neg_divergence))\n",
    "    weight_gradient_scalar = tf.summary.scalar('weight_increment',tf.reduce_mean(delta_w))\n",
    "with tf.name_scope('Visible_bias_gradient'):\n",
    "    delta_vb = tf.multiply(rbm_model.lr/size, tf.reduce_sum(tf.subtract(v,neg_vis_prob), 0, keep_dims=True))\n",
    "with tf.name_scope('Hidden_bias_gradient'):\n",
    "    delta_hb= tf.multiply(rbm_model.lr/size, tf.reduce_sum(tf.subtract(pos_hid_prob,neg_hid_prob), 0, keep_dims=True))\n",
    "\n",
    "update = [W.assign_add(delta_w), vb.assign_add(delta_vb), hb.assign_add(delta_hb)] \n",
    "# Debug mode\n",
    "# Weight increment changes as seen by plotting delta_w for the entire dataset\n",
    "#error_sum = [error.assign_add(delta_w)]\n",
    "#total_err = tf.reduce_mean(error)\n",
    "#reinit = error.assign(tf.zeros([rbm_model.n_visible,rbm_model.n_hidden]))\n",
    "\n",
    "# Merge summaries for Tensorboard\n",
    "summary = tf.summary.merge_all()\n",
    "path_test = os.getcwd()  + '/RBM_logs/MNIST'\n",
    "test_writer = tf.summary.FileWriter(path_test,sess.graph)\n",
    "\n",
    "sess.run(tf.global_variables_initializer())\n"
   ]
  },
  {
   "cell_type": "markdown",
   "metadata": {},
   "source": [
    "# Stochastic gradient descent with batch size of 10. Test every 500 iterations"
   ]
  },
  {
   "cell_type": "code",
   "execution_count": 7,
   "metadata": {
    "collapsed": false
   },
   "outputs": [
    {
     "name": "stdout",
     "output_type": "stream",
     "text": [
      "Reconstruction error at step 0: [0.42559797]\n",
      "Reconstruction error at step 500: [0.045215338]\n",
      "Reconstruction error at step 1000: [0.025361683]\n",
      "Reconstruction error at step 1500: [0.018695321]\n",
      "Reconstruction error at step 2000: [0.015312079]\n",
      "Reconstruction error at step 2500: [0.013728934]\n",
      "Reconstruction error at step 3000: [0.012163154]\n",
      "Reconstruction error at step 3500: [0.011774377]\n",
      "Reconstruction error at step 4000: [0.010574645]\n",
      "Reconstruction error at step 4500: [0.0098661147]\n",
      "Reconstruction error at step 5000: [0.0091389483]\n",
      "Reconstruction error at step 5500: [0.0088640805]\n",
      "Reconstruction error at step 6000: [0.0080300458]\n",
      "Reconstruction error at step 6500: [0.0075854273]\n",
      "Reconstruction error at step 7000: [0.0072421236]\n",
      "Reconstruction error at step 7500: [0.0070069125]\n",
      "Reconstruction error at step 8000: [0.0068136193]\n",
      "Reconstruction error at step 8500: [0.0066819731]\n",
      "Reconstruction error at step 9000: [0.0065434831]\n",
      "Reconstruction error at step 9500: [0.0064605027]\n",
      "Elapsed time for training Bernoulli RBM with CD-1 and 10000 epochs: 24.86170220375061 \n"
     ]
    }
   ],
   "source": [
    "start_time = time.time()\n",
    "##### Start of training ######\n",
    "##### -----------------#######\n",
    "for epoch in range(rbm_model.epochs):\n",
    "    #if epoch % 30 == 0: \n",
    "        #sess.run(reinit)\n",
    "    if epoch % 500 == 0:\n",
    "        feed={v: mnist.test.images}\n",
    "        result = sess.run([rec_error,summary],feed_dict=feed)\n",
    "        acc = result[0]\n",
    "        test_writer.add_summary(result[1],epoch)\n",
    "        print(\"Reconstruction error at step %s: %s\" % (epoch, acc))\n",
    "        #err[epoch] = sess.run(total_err)\n",
    "        #print(\"Absolute gradient estimate of log-likelihood on epoch %s is %s\" %(epoch,np.abs(err[epoch])))\n",
    "    else: \n",
    "        batchXs, batchYs = mnist.train.next_batch(10)\n",
    "        feed={v: batchXs}\n",
    "        result = sess.run([update], feed_dict = feed)\n",
    "        # Print log-likelihood to visualize how it decreases \n",
    "    \n",
    "##### --------------- ######        \n",
    "##### End of Training ######\n",
    "\n",
    "# Plot\n",
    "print(\"Elapsed time for training Bernoulli RBM with CD-1 and %s epochs: %s \"%(rbm_model.epochs,time.time()-start_time))\n",
    "#rbm.plot_weight_update(x=np.arange(0,rbm_model.epochs,1),y=np.abs(err))"
   ]
  },
  {
   "cell_type": "markdown",
   "metadata": {},
   "source": [
    "## Reconstruct some digits using Gibbs sampling"
   ]
  },
  {
   "cell_type": "code",
   "execution_count": 8,
   "metadata": {
    "collapsed": false
   },
   "outputs": [
    {
     "data": {
      "image/png": "[encoded data removed]",
      "text/plain": [
       "<matplotlib.figure.Figure at 0x11a209b70>"
      ]
     },
     "metadata": {},
     "output_type": "display_data"
    },
    {
     "data": {
      "image/png": "[encoded data removed]",
      "text/plain": [
       "<matplotlib.figure.Figure at 0x101bae940>"
      ]
     },
     "metadata": {},
     "output_type": "display_data"
    },
    {
     "data": {
      "image/png": "[encoded data removed]",
      "text/plain": [
       "<matplotlib.figure.Figure at 0x11a29fda0>"
      ]
     },
     "metadata": {},
     "output_type": "display_data"
    },
    {
     "data": {
      "image/png": "[encoded data removed]",
      "text/plain": [
       "<matplotlib.figure.Figure at 0x110f11e48>"
      ]
     },
     "metadata": {},
     "output_type": "display_data"
    }
   ],
   "source": [
    "##### Testing ##### \n",
    "# Testing the RBM for one sample step after learning the weights        \n",
    "first_image = 1\n",
    "test_image = mnist_train.images[first_image]\n",
    "test_image2 = mnist.test.images[first_image]\n",
    "def show_digit(x):\n",
    "    plt.imshow(x.reshape((28,28)),cmap = plt.cm.gray)\n",
    "    plt.show()\n",
    "\n",
    "    \n",
    "sample = rbm.gibbs_gaussian(1,v=v,hb=hb,vb=vb,W=W).eval(session=sess, feed_dict={v: test_image.reshape(1,-1).astype(np.float32)})    \n",
    "sample_test = rbm.gibbs_gaussian(1,v=v,hb=hb,vb=vb,W=W).eval(session=sess, feed_dict={v: test_image2.reshape(1,-1).astype(np.float32)})    \n",
    "show_digit(test_image)\n",
    "show_digit(sample)\n",
    "\n",
    "show_digit(test_image2)\n",
    "show_digit(sample_test)\n",
    "tf.reset_default_graph()"
   ]
  }
 ],
 "metadata": {
  "kernelspec": {
   "display_name": "Python 3",
   "language": "python",
   "name": "python3"
  },
  "language_info": {
   "codemirror_mode": {
    "name": "ipython",
    "version": 3
   },
   "file_extension": ".py",
   "mimetype": "text/x-python",
   "name": "python",
   "nbconvert_exporter": "python",
   "pygments_lexer": "ipython3",
   "version": "3.5.2"
  }
 },
 "nbformat": 4,
 "nbformat_minor": 2
}
