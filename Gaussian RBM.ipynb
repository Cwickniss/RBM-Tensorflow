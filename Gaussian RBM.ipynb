{
 "cells": [
  {
   "cell_type": "code",
   "execution_count": 1,
   "metadata": {
    "collapsed": false
   },
   "outputs": [],
   "source": [
    "import tensorflow as tf\n",
    "import os \n",
    "import numpy as np\n",
    "import numpy.random as rng\n",
    "from tensorflow.examples.tutorials.mnist import input_data\n",
    "from rbm.examples import bas_data \n",
    "from rbm.helper import batch \n",
    "from rbm.model import rbm \n",
    "import matplotlib.pyplot as plt\n",
    "import time "
   ]
  },
  {
   "cell_type": "code",
   "execution_count": 2,
   "metadata": {
    "collapsed": false
   },
   "outputs": [
    {
     "name": "stdout",
     "output_type": "stream",
     "text": [
      "Absolute gradient estimate of log-likelihood on epoch 0 is 0.0914834663272\n",
      "Absolute gradient estimate of log-likelihood on epoch 500 is 0.000408145831898\n",
      "Saving model at: /Users/patricfulop/Documents/Code/Tensorflow/Restricted Boltzman Machine Tensorflow/saved_model/gaussian_RBM_bas8000.ckpt\n",
      "Elapsed time for training Gaussian RBM with CD-1 and 1000 epochs: 2.5499820709228516 \n"
     ]
    },
    {
     "data": {
      "image/png": "[encoded data removed]",
      "text/plain": [
       "<matplotlib.figure.Figure at 0x104313a90>"
      ]
     },
     "metadata": {},
     "output_type": "display_data"
    }
   ],
   "source": [
    "# Create session.\n",
    "sess = tf.InteractiveSession()\n",
    "\n",
    "# Initialize RBM Model and batch BAS Dataset\n",
    "rbm_model= rbm.RBM(n_visible = 16, n_hidden = 16, lr = tf.constant(0.1,tf.float32), epochs = 1000)\n",
    "data = bas_data.get_data(rng.RandomState(123456))\n",
    "bt = batch.Batch(X = data, batch_size = 1)\n",
    "\n",
    "# Placeholder for the visible layer of the RBM computation graph.\n",
    "v = tf.placeholder(tf.float32, shape=[None,rbm_model.n_visible], name=\"visible_layer\")\n",
    "size = tf.cast(tf.shape(v)[0], tf.float32)\n",
    "\n",
    "# Initialize weights and biases for the RBM\n",
    "with tf.name_scope('Weights'):\n",
    "    W = tf.Variable(tf.random_normal([rbm_model.n_visible, rbm_model.n_hidden], mean=0., stddev=4 * np.sqrt(6. / (rbm_model.n_visible + rbm_model.n_hidden))), name=\"weights\")\n",
    "    tf.summary.histogram('weights',W)\n",
    "    \n",
    "vb = tf.Variable(tf.zeros([1,rbm_model.n_visible]),tf.float32, name=\"visible_bias\")\n",
    "hb = tf.Variable(tf.zeros([1,rbm_model.n_hidden]),tf.float32, name=\"hidden_bias\")\n",
    "error = tf.Variable(tf.zeros([rbm_model.n_visible,rbm_model.n_hidden]),tf.float32, name=\"error\")\n",
    "err = np.zeros(rbm_model.epochs)\n",
    "\n",
    "# Similarity between reconstructed/sampled visible layer and input during training. \n",
    "# Summary for Tensorboard visualization \n",
    "with tf.name_scope(\"Accuracy\"): \n",
    "    accuracy = tf.Variable(0.0,name=\"accuracy\")\n",
    "    tf.summary.scalar('accuracy',accuracy)\n",
    "    \n",
    "# K-step Contrastive Divergence using Gibbs sampling\n",
    "# Positive divergence v_0^T * p(h_0|v_0)\n",
    "with tf.name_scope('Hidden_probabilities'):\n",
    "    pos_hid_prob = rbm.get_gaussian_probabilities('hidden',W,v,hb)\n",
    "with tf.name_scope('Positive_Divergence'):\n",
    "    pos_divergence = tf.matmul(tf.transpose(v),pos_hid_prob)\n",
    "\n",
    "\n",
    "pos_hid_states = rbm.sample(pos_hid_prob)\n",
    "neg_vis_prob = rbm.get_gaussian_probabilities('visible', W, pos_hid_states, vb)\n",
    "\n",
    "# Negative part v_sampled^T * p(h_sample_k+1|v_sample_k)\n",
    "with tf.name_scope('Negative_hidden_probabilities'):\n",
    "    neg_hid_prob = rbm.get_gaussian_probabilities('hidden', W, neg_vis_prob, hb)\n",
    "with tf.name_scope('Negative_Divergence'):\n",
    "    neg_divergence = tf.matmul(tf.transpose(neg_vis_prob),neg_hid_prob)\n",
    "    \n",
    "    \n",
    "# Accuracy on reconstructing visible layer \n",
    "reconstruction_accuracy = tf.reduce_mean(tf.squared_difference(v,neg_vis_prob))\n",
    "accuracy_update = [accuracy.assign_add(reconstruction_accuracy)]\n",
    "    \n",
    "# Update rules for weights and biases\n",
    "# Summaries of gradient for Tensorboard visualization\n",
    "with tf.name_scope('Weight_gradient'):\n",
    "    delta_w = tf.multiply(rbm_model.lr/size, tf.subtract(pos_divergence,neg_divergence))\n",
    "    weight_gradient_scalar = tf.summary.scalar('weight_gradient_mean',tf.reduce_mean(delta_w))\n",
    "with tf.name_scope('Visible_bias_gradient'):\n",
    "    delta_vb = tf.multiply(rbm_model.lr/size, tf.reduce_sum(tf.subtract(v,neg_vis_prob), 0, keep_dims=True))\n",
    "with tf.name_scope('Hidden_bias_gradient'):\n",
    "    delta_hb= tf.multiply(rbm_model.lr/size, tf.reduce_sum(tf.subtract(pos_hid_prob,neg_hid_prob), 0, keep_dims=True))\n",
    "\n",
    "update = [W.assign_add(delta_w), vb.assign_add(delta_vb), hb.assign_add(delta_hb)] \n",
    "\n",
    "# Debug mode\n",
    "# Weight increment changes as seen by plotting delta_w for the entire dataset\n",
    "error_sum = [error.assign_add(delta_w)]\n",
    "total_err = tf.reduce_mean(error)\n",
    "reinit = error.assign(tf.zeros([rbm_model.n_visible,rbm_model.n_hidden]))\n",
    "\n",
    "# Merge summaries for Tensorboard\n",
    "summary = tf.summary.merge_all()\n",
    "path_test = os.getcwd()  + '/RBM_logs/gaussian_RBM'\n",
    "test_writer = tf.summary.FileWriter(path_test,sess.graph)\n",
    "\n",
    "saver = tf.train.Saver({\"weights\":W, \"visible_bias\":vb, \"hidden_bias\":hb})\n",
    "\n",
    "##### Start of training ######\n",
    "##### -----------------#######\n",
    "start_time = time.time()\n",
    "sess.run(tf.global_variables_initializer())\n",
    "for epoch in range(rbm_model.epochs):\n",
    "    if epoch % 30 == 0: \n",
    "        sess.run(reinit)\n",
    "    d = bt.get_batch()\n",
    "    feed={v: d}\n",
    "    [error_update, weight_update, accuracy_out, summary_str] = sess.run([error_sum, update, \n",
    "                                                                       accuracy_update, summary],feed_dict=feed)\n",
    "    test_writer.add_summary(summary_str,epoch)\n",
    "    \n",
    "    # Print log-likelihood to visualize how it decreases \n",
    "    err[epoch] = sess.run(total_err)\n",
    "    if epoch % 500 == 0 : \n",
    "        print(\"Absolute gradient estimate of log-likelihood on epoch %s is %s\" %(epoch,np.abs(err[epoch])))\n",
    "save_path = saver.save(sess, os.getcwd() + \"/saved_model/gaussian_RBM_bas8000.ckpt\")\n",
    "print(\"Saving model at: %s\"%(save_path))\n",
    "##### --------------- ######        \n",
    "##### End of Training ######\n",
    "\n",
    "# Plot\n",
    "print(\"Elapsed time for training Gaussian RBM with CD-1 and %s epochs: %s \"%(rbm_model.epochs,time.time()-start_time))\n",
    "rbm.plot_weight_update(x=np.arange(0,rbm_model.epochs,1),y=np.abs(err))"
   ]
  },
  {
   "cell_type": "markdown",
   "metadata": {},
   "source": [
    "## Test the RBM by trying to reconstruct the visible layer"
   ]
  },
  {
   "cell_type": "code",
   "execution_count": 3,
   "metadata": {
    "collapsed": false
   },
   "outputs": [
    {
     "name": "stdout",
     "output_type": "stream",
     "text": [
      "Generated sample after 1 step is: [[  1.00000000e+00   1.00000000e+00   9.99999642e-01   1.00000000e+00\n",
      "    9.00584052e-09   1.37622614e-04   5.11669096e-10   1.16453669e-03\n",
      "    2.37267055e-02   6.86706364e-01   9.99997616e-01   9.92498457e-01\n",
      "    8.52419726e-06   2.37021709e-08   1.27871484e-02   2.86892173e-05]]\n",
      "Sum: 1.05148360818\n",
      "Ex 1: Reconstructed Data from last step: [[  1.00000000e+00   1.00000000e+00   9.99360979e-01   1.00000000e+00\n",
      "    1.03352498e-03   3.12442830e-06   7.13672705e-07   1.47025753e-03\n",
      "    9.99999881e-01   9.99937177e-01   9.99999523e-01   9.98862267e-01\n",
      "    4.63252945e-04   7.68704267e-10   8.94965012e-07   4.03994793e-09]]\n",
      "Ex 1: Probability for correct state is: 0.8633333333333333. Should be close to 1. \n"
     ]
    }
   ],
   "source": [
    "##### Testing ##### \n",
    "# Testing the RBM for one sample step after learning the weights        \n",
    "test = np.array([1, 1, 1, 1, 0, 0, 0, 0, 0.5, 0.5, 0.5, 0.5, 0, 0, 0, 0]).reshape(1,rbm_model.n_visible)\n",
    "sample = rbm.gibbs_gaussian(1,v=v,hb=hb,vb=vb,W=W).eval(session=sess, feed_dict={v: test.astype(np.float32)})    \n",
    "print(\"Generated sample after %s step is: %s\" %(1, sample))\n",
    "\n",
    "# More debug\n",
    "out = np.array([1, 1, 1, 1, 0, 0, 0, 0, 1, 1, 1, 1, 0, 0, 0, 0]).reshape(1,rbm_model.n_visible)\n",
    "print(\"Sum: %s\" %(np.sum((sample - out) ** 2)))\n",
    "\n",
    "\n",
    "# Some simulations to see how many reconstructed inputs are correct after 1 sampling step. \n",
    "# Because i'm not fixing the 0/1 inputs when sampling it's quite unstable, it's stochastic after all. \n",
    "# See histogram for why it's a good reconstruction\n",
    "i = 0\n",
    "c1 = 0 \n",
    "r = 300\n",
    "burnin = r//10\n",
    "test_input = np.array([1, 1, 1, 1, 0, 0, 0, 0, 1, 0.5, 0.5, 0.5, 0, 0, 0, 0]).reshape(1,rbm_model.n_visible)\n",
    "test_output = np.array([1, 1, 1, 1, 0, 0, 0, 0, 1, 1, 1, 1, 0, 0, 0, 0]).reshape(1,rbm_model.n_visible)\n",
    "res = np.zeros([r,rbm_model.n_visible])\n",
    "\n",
    "for i in range(r+burnin):\n",
    "    reconstructed_data = rbm.gibbs_gaussian(1,v=v,hb=hb,vb=vb,W=W).eval(session=sess, feed_dict={v: test_input.astype(np.float32)}) \n",
    "    if i > burnin:    \n",
    "        if np.sum((reconstructed_data - test_output) ** 2) <= 0.1:\n",
    "                   c1 += 1\n",
    "        res[i-burnin] = reconstructed_data        \n",
    "    i += 1\n",
    "print(\"Ex 1: Reconstructed Data from last step: %s\" %(reconstructed_data))\n",
    "print(\"Ex 1: Probability for correct state is: %s. Should be close to 1. \" %(c1/r))\n",
    "tf.reset_default_graph()"
   ]
  },
  {
   "cell_type": "code",
   "execution_count": 4,
   "metadata": {
    "collapsed": false
   },
   "outputs": [
    {
     "data": {
      "image/png": "[encoded data removed]",
      "text/plain": [
       "<matplotlib.figure.Figure at 0x110adb710>"
      ]
     },
     "metadata": {},
     "output_type": "display_data"
    }
   ],
   "source": [
    "# plt.imshow(res[1:100],interpolation=\"None\",cmap=plt.cm.gray)\n",
    "plt.hist(res,bins=2)\n",
    "plt.title('Binary histogram for visible nodes')\n",
    "plt.xlabel('Visible nodes')\n",
    "plt.ylabel('Counts/frequencies')\n",
    "plt.show()"
   ]
  },
  {
   "cell_type": "code",
   "execution_count": null,
   "metadata": {
    "collapsed": true
   },
   "outputs": [],
   "source": []
  }
 ],
 "metadata": {
  "kernelspec": {
   "display_name": "Python 3",
   "language": "python",
   "name": "python3"
  },
  "language_info": {
   "codemirror_mode": {
    "name": "ipython",
    "version": 3
   },
   "file_extension": ".py",
   "mimetype": "text/x-python",
   "name": "python",
   "nbconvert_exporter": "python",
   "pygments_lexer": "ipython3",
   "version": "3.5.2"
  }
 },
 "nbformat": 4,
 "nbformat_minor": 2
}
